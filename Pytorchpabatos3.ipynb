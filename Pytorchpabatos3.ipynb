{
  "nbformat": 4,
  "nbformat_minor": 0,
  "metadata": {
    "colab": {
      "name": "Pytorchpabatos3",
      "provenance": [],
      "authorship_tag": "ABX9TyNSRc+y6ghg4K9MBRfbKeMS",
      "include_colab_link": true
    },
    "kernelspec": {
      "name": "python3",
      "display_name": "Python 3"
    },
    "language_info": {
      "name": "python"
    }
  },
  "cells": [
    {
      "cell_type": "markdown",
      "metadata": {
        "id": "view-in-github",
        "colab_type": "text"
      },
      "source": [
        "<a href=\"https://colab.research.google.com/github/yolitie/Deep-Learning/blob/main/Pytorchpabatos3.ipynb\" target=\"_parent\"><img src=\"https://colab.research.google.com/assets/colab-badge.svg\" alt=\"Open In Colab\"/></a>"
      ]
    },
    {
      "cell_type": "code",
      "execution_count": null,
      "metadata": {
        "colab": {
          "base_uri": "https://localhost:8080/"
        },
        "id": "9Mvft1Ox5qYU",
        "outputId": "98082fa6-f697-40ce-8287-a8648fbe08ba"
      },
      "outputs": [
        {
          "output_type": "stream",
          "name": "stdout",
          "text": [
            "tensor(1., grad_fn=<PowBackward0>)\n",
            "tensor(-2.)\n"
          ]
        }
      ],
      "source": [
        "#Backpropagation\n",
        "#Chain rule, we have two operations or two functions. First, we have an input x and we apply a function and our output is y, and we apply another function and we have as an output z.\n",
        "#We want to obtain the minimum possible value of z.\n",
        "# In order to obtain dz/dx=dz/dy*dy/dx\n",
        "# 3 steps: 1) Forward pass: compute the loss.\n",
        "#          2) Compute local gradients.\n",
        "#          3) Backward pass: Compute dLoss/dWeihts using the chain rule.\n",
        "# yap= w*x         loss=(yap-y)^2= (wx-y)^2\n",
        "\n",
        "import torch\n",
        "\n",
        "x= torch.tensor(1.0)\n",
        "y= torch.tensor(2.0)\n",
        "\n",
        "w= torch.tensor(1.0, requires_grad=True) #We are interested in the gradient so we have to specify requires_grad=True\n",
        "\n",
        "#Forward pass and compute the loss\n",
        "y_hat=x*w\n",
        "loss= (y_hat-y)**2\n",
        "print(loss)\n",
        "\n",
        "#Backward pass\n",
        "\n",
        "loss.backward()\n",
        "print(w.grad)\n",
        "\n",
        "### update our weights \n",
        "### next forward and backwards\n"
      ]
    },
    {
      "cell_type": "code",
      "source": [
        "import numpy as np\n",
        "\n",
        "# f= w*x\n",
        "\n",
        "# f= 2*x\n",
        "X= np.array([1,2,3,4],dtype=np.float32)\n",
        "Y= np.array([2,4,6,8], dtype=np.float32)\n",
        "\n",
        "w=0.0\n",
        "\n",
        "#Calculate our model prediction\n",
        "def forward(x):\n",
        "  return w*x\n",
        "\n",
        "#Calculate the loss, calculating it as the MSE\n",
        "def loss(y,y_predicted):\n",
        "  return ((y_predicted-y)**2).mean()\n",
        "\n",
        "#Calculate the gradient\n",
        "#MSE =1/N*(w*x-y)**2\n",
        "#dJ/dw=1/N*2x(wx-y)\n",
        "def gradient(x,y,y_predicted):\n",
        "  return np.dot(2*x,y_predicted-y).mean()\n",
        "\n",
        "print(f'Prediction before trainin: f(5)={forward(5):.3f}')\n",
        "\n",
        "#Training\n",
        "learning_rate=0.01\n",
        "n_iters=20\n",
        "\n",
        "for epoch in range(n_iters):\n",
        "  #prediction= forward pass\n",
        "  y_pred=forward(X)\n",
        "\n",
        "  #loss \n",
        "  l= loss(Y,y_pred)\n",
        "\n",
        "  #gradients\n",
        "  dw=gradient(X,Y,y_pred)\n",
        "\n",
        "  #update weights\n",
        "  w -= learning_rate*dw\n",
        "\n",
        "  if epoch % 2==0:\n",
        "    print(f'epoch {epoch+1}: w= {w:.3f}, loss= {l:.8f}')\n",
        "  \n",
        "  print(f'Prediction after the training: f(5)= {forward(5):.3f}')\n"
      ],
      "metadata": {
        "colab": {
          "base_uri": "https://localhost:8080/"
        },
        "id": "cx63c-IqN_bY",
        "outputId": "6138fad3-0833-4f09-a68e-855ee953a612"
      },
      "execution_count": null,
      "outputs": [
        {
          "output_type": "stream",
          "name": "stdout",
          "text": [
            "Prediction before trainin: f(5)=0.000\n",
            "epoch 1: w= 1.200, loss= 30.00000000\n",
            "Prediction after the training: f(5)= 6.000\n",
            "Prediction after the training: f(5)= 8.400\n",
            "epoch 3: w= 1.872, loss= 0.76800019\n",
            "Prediction after the training: f(5)= 9.360\n",
            "Prediction after the training: f(5)= 9.744\n",
            "epoch 5: w= 1.980, loss= 0.01966083\n",
            "Prediction after the training: f(5)= 9.898\n",
            "Prediction after the training: f(5)= 9.959\n",
            "epoch 7: w= 1.997, loss= 0.00050331\n",
            "Prediction after the training: f(5)= 9.984\n",
            "Prediction after the training: f(5)= 9.993\n",
            "epoch 9: w= 1.999, loss= 0.00001288\n",
            "Prediction after the training: f(5)= 9.997\n",
            "Prediction after the training: f(5)= 9.999\n",
            "epoch 11: w= 2.000, loss= 0.00000033\n",
            "Prediction after the training: f(5)= 10.000\n",
            "Prediction after the training: f(5)= 10.000\n",
            "epoch 13: w= 2.000, loss= 0.00000001\n",
            "Prediction after the training: f(5)= 10.000\n",
            "Prediction after the training: f(5)= 10.000\n",
            "epoch 15: w= 2.000, loss= 0.00000000\n",
            "Prediction after the training: f(5)= 10.000\n",
            "Prediction after the training: f(5)= 10.000\n",
            "epoch 17: w= 2.000, loss= 0.00000000\n",
            "Prediction after the training: f(5)= 10.000\n",
            "Prediction after the training: f(5)= 10.000\n",
            "epoch 19: w= 2.000, loss= 0.00000000\n",
            "Prediction after the training: f(5)= 10.000\n",
            "Prediction after the training: f(5)= 10.000\n"
          ]
        }
      ]
    },
    {
      "cell_type": "code",
      "source": [
        ""
      ],
      "metadata": {
        "id": "yyLZmwngTHD_"
      },
      "execution_count": null,
      "outputs": []
    },
    {
      "cell_type": "code",
      "source": [
        "import torch \n",
        "\n",
        "# f= w*x\n",
        "\n",
        "# f= 2*x\n",
        "X= torch.tensor([1,2,3,4],dtype=torch.float32)\n",
        "Y= torch.tensor([2,4,6,8], dtype=torch.float32)\n",
        "\n",
        "w=torch.tensor(0.0,dtype=torch.float32, requires_grad= True )\n",
        "\n",
        "#Calculate our model prediction\n",
        "def forward(x):\n",
        "  return w*x\n",
        "\n",
        "#Calculate the loss, calculating it as the MSE\n",
        "def loss(y,y_predicted):\n",
        "  return ((y_predicted-y)**2).mean()\n",
        "\n",
        "\n",
        "\n",
        "print(f'Prediction before trainin: f(5)={forward(5):.3f}')\n",
        "\n",
        "#Training\n",
        "learning_rate=0.01\n",
        "n_iters=100\n",
        "\n",
        "for epoch in range(n_iters):\n",
        "  #prediction= forward pass\n",
        "  y_pred=forward(X)\n",
        "\n",
        "  #loss \n",
        "  l= loss(Y,y_pred)\n",
        "\n",
        "  #gradients = backward pass\n",
        "  l.backward() #dl/dw\n",
        "\n",
        "  #update weights\n",
        "  with torch.no_grad():\n",
        "    w -= learning_rate*w.grad\n",
        "  #zero gradients \n",
        "  w.grad.zero_()\n",
        "\n",
        "\n",
        "  if epoch % 10==0:\n",
        "    print(f'epoch {epoch+1}: w= {w:.3f}, loss= {l:.8f}')\n",
        "  \n",
        "print(f'Prediction after the training: f(5)= {forward(5):.3f}')\n"
      ],
      "metadata": {
        "colab": {
          "base_uri": "https://localhost:8080/"
        },
        "outputId": "e4c68985-db96-432e-e7f5-b3240b2b928f",
        "id": "EheasI2uTYnE"
      },
      "execution_count": null,
      "outputs": [
        {
          "output_type": "stream",
          "name": "stdout",
          "text": [
            "Prediction before trainin: f(5)=0.000\n",
            "epoch 1: w= 0.300, loss= 30.00000000\n",
            "epoch 11: w= 1.665, loss= 1.16278565\n",
            "epoch 21: w= 1.934, loss= 0.04506890\n",
            "epoch 31: w= 1.987, loss= 0.00174685\n",
            "epoch 41: w= 1.997, loss= 0.00006770\n",
            "epoch 51: w= 1.999, loss= 0.00000262\n",
            "epoch 61: w= 2.000, loss= 0.00000010\n",
            "epoch 71: w= 2.000, loss= 0.00000000\n",
            "epoch 81: w= 2.000, loss= 0.00000000\n",
            "epoch 91: w= 2.000, loss= 0.00000000\n",
            "Prediction after the training: f(5)= 10.000\n"
          ]
        }
      ]
    },
    {
      "cell_type": "code",
      "source": [
        ""
      ],
      "metadata": {
        "id": "cCaDa2IgavfU"
      },
      "execution_count": null,
      "outputs": []
    },
    {
      "cell_type": "code",
      "source": [
        "#1) Design our model (input, output size, forward pass)\n",
        "#2) Construct loss and optimizer.\n",
        "#3) Training loop.\n",
        "#    -Forward pass: Compute prediction.\n",
        "#    -Backward pass: gradients.\n",
        "#    -Update weights.\n",
        "\n",
        "import torch \n",
        "import torch.nn as nn\n",
        "\n",
        "# f= w*x\n",
        "\n",
        "# f= 2*x\n",
        "X= torch.tensor([1,2,3,4],dtype=torch.float32)\n",
        "Y= torch.tensor([2,4,6,8], dtype=torch.float32)\n",
        "\n",
        "w=torch.tensor(0.0,dtype=torch.float32, requires_grad= True )\n",
        "\n",
        "#Calculate our model prediction\n",
        "def forward(x):\n",
        "  return w*x\n",
        "\n",
        "print(f'Prediction before trainin: f(5)={forward(5):.3f}')\n",
        "\n",
        "#Training\n",
        "learning_rate=0.01\n",
        "n_iters=100\n",
        "\n",
        "loss = nn.MSELoss()\n",
        "optimizer = torch.optim.SGD([w],lr=learning_rate)\n",
        "#SGD stands for Stochastic gradient descent\n",
        "for epoch in range(n_iters):\n",
        "  #prediction= forward pass\n",
        "  y_pred=forward(X)\n",
        "\n",
        "  #loss \n",
        "  l= loss(Y,y_pred)\n",
        "\n",
        "  #gradients = backward pass\n",
        "  l.backward() #dl/dw\n",
        "\n",
        "  #We don´t need to manually update our weights\n",
        "  optimizer.step()\n",
        "  #W still have to empty our gradients after the optimization step, zero gradients \n",
        "  optimizer.zero_grad()\n",
        "\n",
        "\n",
        "  if epoch % 10==0:\n",
        "    print(f'epoch {epoch+1}: w= {w:.3f}, loss= {l:.8f}')\n",
        "  \n",
        "print(f'Prediction after the training: f(5)= {forward(5):.3f}')\n"
      ],
      "metadata": {
        "colab": {
          "base_uri": "https://localhost:8080/"
        },
        "outputId": "c1f8cb1c-d737-4c58-d87f-0dc81169b6aa",
        "id": "P81JsYV4axPG"
      },
      "execution_count": null,
      "outputs": [
        {
          "output_type": "stream",
          "name": "stdout",
          "text": [
            "Prediction before trainin: f(5)=0.000\n",
            "epoch 1: w= 0.300, loss= 30.00000000\n",
            "epoch 11: w= 1.665, loss= 1.16278565\n",
            "epoch 21: w= 1.934, loss= 0.04506890\n",
            "epoch 31: w= 1.987, loss= 0.00174685\n",
            "epoch 41: w= 1.997, loss= 0.00006770\n",
            "epoch 51: w= 1.999, loss= 0.00000262\n",
            "epoch 61: w= 2.000, loss= 0.00000010\n",
            "epoch 71: w= 2.000, loss= 0.00000000\n",
            "epoch 81: w= 2.000, loss= 0.00000000\n",
            "epoch 91: w= 2.000, loss= 0.00000000\n",
            "Prediction after the training: f(5)= 10.000\n"
          ]
        }
      ]
    },
    {
      "cell_type": "code",
      "source": [
        "#STEP 4\n"
      ],
      "metadata": {
        "id": "1MDYN05EcLHM"
      },
      "execution_count": null,
      "outputs": []
    },
    {
      "cell_type": "code",
      "source": [
        "\n",
        "import torch \n",
        "import torch.nn as nn\n",
        "\n",
        "# f= w*x\n",
        "\n",
        "# f= 2*x\n",
        "X= torch.tensor([[1],[2],[3],[4]],dtype=torch.float32)\n",
        "Y= torch.tensor([[2],[4],[6],[8]], dtype=torch.float32)\n",
        "\n",
        "X_test= torch.tensor([5], dtype= torch.float32)\n",
        "\n",
        "n_samples, n_features= X.shape\n",
        "print( n_samples, n_features)\n",
        "\n",
        "input_size= n_features\n",
        "output_size= n_features\n",
        "\n",
        "model=nn.Linear(input_size, output_size)\n",
        "#This is only one layer, it needs an input size and output size of our features.\n",
        "#Now or X and Y need both a different shape, it has to be a 2D array with the number of rows as the number of samples and for each row we have the number of features.\n",
        "\n",
        "print(f'Prediction before trainin: f(5)={model(X_test).item():.3f}')\n",
        "\n",
        "#Training\n",
        "learning_rate=0.01\n",
        "n_iters=100\n",
        "\n",
        "loss = nn.MSELoss()\n",
        "optimizer = torch.optim.SGD(model.parameters(),lr=learning_rate)\n",
        "#SGD stands for Stochastic gradient descent\n",
        "for epoch in range(n_iters):\n",
        "  #prediction= forward pass\n",
        "  y_pred=model(X)\n",
        "\n",
        "  #loss \n",
        "  l= loss(Y,y_pred)\n",
        "\n",
        "  #gradients = backward pass\n",
        "  l.backward() #dl/dw\n",
        "\n",
        "  #We don´t need to manually update our weights\n",
        "  optimizer.step()\n",
        "  #W still have to empty our gradients after the optimization step, zero gradients \n",
        "  optimizer.zero_grad()\n",
        "\n",
        "\n",
        "  if epoch % 10==0:\n",
        "    [w,b]= model.parameters()\n",
        "    print(f'epoch {epoch+1}: w= {w[0][0].item():.3f}, loss= {l:.8f}')\n",
        "  \n",
        "print(f'Prediction after the training: f(5)= {model(X_test).item():.3f}')\n"
      ],
      "metadata": {
        "colab": {
          "base_uri": "https://localhost:8080/"
        },
        "outputId": "2f7f567e-fe42-4b9a-a14a-7572ca770938",
        "id": "SsWeeDfacUdU"
      },
      "execution_count": null,
      "outputs": [
        {
          "output_type": "stream",
          "name": "stdout",
          "text": [
            "4 1\n",
            "Prediction before trainin: f(5)=4.316\n",
            "epoch 1: w= 1.078, loss= 10.16656590\n",
            "epoch 11: w= 1.810, loss= 0.26658076\n",
            "epoch 21: w= 1.929, loss= 0.01023797\n",
            "epoch 31: w= 1.949, loss= 0.00341124\n",
            "epoch 41: w= 1.954, loss= 0.00305149\n",
            "epoch 51: w= 1.955, loss= 0.00286971\n",
            "epoch 61: w= 1.957, loss= 0.00270258\n",
            "epoch 71: w= 1.958, loss= 0.00254526\n",
            "epoch 81: w= 1.959, loss= 0.00239711\n",
            "epoch 91: w= 1.961, loss= 0.00225759\n",
            "Prediction after the training: f(5)= 9.921\n"
          ]
        }
      ]
    },
    {
      "cell_type": "code",
      "source": [
        ""
      ],
      "metadata": {
        "id": "GB46wUFWfZP3"
      },
      "execution_count": null,
      "outputs": []
    },
    {
      "cell_type": "code",
      "source": [
        "\n",
        "import torch \n",
        "import torch.nn as nn\n",
        "\n",
        "# f= w*x\n",
        "\n",
        "# f= 2*x\n",
        "X= torch.tensor([[1],[2],[3],[4]],dtype=torch.float32)\n",
        "Y= torch.tensor([[2],[4],[6],[8]], dtype=torch.float32)\n",
        "\n",
        "X_test= torch.tensor([5], dtype= torch.float32)\n",
        "\n",
        "n_samples, n_features= X.shape\n",
        "print( n_samples, n_features)\n",
        "\n",
        "input_size= n_features\n",
        "output_size= n_features\n",
        "\n",
        "\n",
        "class LinearRegression(nn.Module):\n",
        "  def __init__(self, input_dim, output_dim):\n",
        "    super(LinearRegression,self).__init__()\n",
        "    #define our layers\n",
        "    self.lin= nn.Linear(input_dim,output_dim)\n",
        "  \n",
        "  def forward(self,x):\n",
        "    return self.lin(x)\n",
        "\n",
        "model=LinearRegression(input_size, output_size)\n",
        "\n",
        "\n",
        "#Now or X and Y need both a different shape, it has to be a 2D array with the number of rows as the number of samples and for each row we have the number of features.\n",
        "\n",
        "print(f'Prediction before trainin: f(5)={model(X_test).item():.3f}')\n",
        "\n",
        "#Training\n",
        "learning_rate=0.01\n",
        "n_iters=100\n",
        "\n",
        "loss = nn.MSELoss()\n",
        "optimizer = torch.optim.SGD(model.parameters(),lr=learning_rate)\n",
        "#SGD stands for Stochastic gradient descent\n",
        "for epoch in range(n_iters):\n",
        "  #prediction= forward pass\n",
        "  y_pred=model(X)\n",
        "\n",
        "  #loss \n",
        "  l= loss(Y,y_pred)\n",
        "\n",
        "  #gradients = backward pass\n",
        "  l.backward() #dl/dw\n",
        "\n",
        "  #We don´t need to manually update our weights\n",
        "  optimizer.step()\n",
        "  #W still have to empty our gradients after the optimization step, zero gradients \n",
        "  optimizer.zero_grad()\n",
        "\n",
        "\n",
        "  if epoch % 10==0:\n",
        "    [w,b]= model.parameters()\n",
        "    print(f'epoch {epoch+1}: w= {w[0][0].item():.3f}, loss= {l:.8f}')\n",
        "  \n",
        "print(f'Prediction after the training: f(5)= {model(X_test).item():.3f}')\n"
      ],
      "metadata": {
        "colab": {
          "base_uri": "https://localhost:8080/"
        },
        "outputId": "58accb1f-9fc7-40d7-b7ef-ee4cfd8640db",
        "id": "Dpzqu58BfauQ"
      },
      "execution_count": null,
      "outputs": [
        {
          "output_type": "stream",
          "name": "stdout",
          "text": [
            "4 1\n",
            "Prediction before trainin: f(5)=-2.279\n",
            "epoch 1: w= 0.031, loss= 47.96054840\n",
            "epoch 11: w= 1.619, loss= 1.24921679\n",
            "epoch 21: w= 1.876, loss= 0.04019616\n",
            "epoch 31: w= 1.920, loss= 0.00845763\n",
            "epoch 41: w= 1.928, loss= 0.00720477\n",
            "epoch 51: w= 1.932, loss= 0.00676574\n",
            "epoch 61: w= 1.934, loss= 0.00637142\n",
            "epoch 71: w= 1.936, loss= 0.00600055\n",
            "epoch 81: w= 1.938, loss= 0.00565128\n",
            "epoch 91: w= 1.939, loss= 0.00532235\n",
            "Prediction after the training: f(5)= 9.879\n"
          ]
        }
      ]
    },
    {
      "cell_type": "code",
      "source": [
        "#LINEAR REGRESSION \n",
        "\n",
        "import torch\n",
        "import torch.nn as nn\n",
        "import numpy as np\n",
        "from sklearn import datasets \n",
        "import matplotlib.pyplot as plt\n",
        "\n",
        "# 0) prepare our data\n",
        "X_numpy, y_numpy= datasets.make_regression(n_samples=100, n_features=1, noise=20, random_state=1)\n",
        "X= torch.from_numpy(X_numpy.astype(np.float32))\n",
        "y= torch.from_numpy(y_numpy.astype(np.float32))\n",
        "y=y.view(y.shape[0],1)\n",
        "n_samples, n_features = X.shape\n",
        "\n",
        "\n",
        "# 1) model\n",
        "input_size= n_features\n",
        "output_size= 1\n",
        "model= nn.Linear(input_size, output_size)\n",
        "\n",
        "# 2) define the loss and optimizer \n",
        "learning_rate= 0.01\n",
        "criterion= nn.MSELoss()\n",
        "optimizer= torch.optim.SGD(model.parameters(),lr= learning_rate)\n",
        "\n",
        "# 3) training loop\n",
        "num_epochs= 100\n",
        "for epoch in range(num_epochs):\n",
        "   #forward pass and loss\n",
        "   y_predicted= model(X)\n",
        "   loss=criterion(y_predicted,y)\n",
        "\n",
        "   #backward pass\n",
        "   loss.backward()\n",
        "\n",
        "   #update\n",
        "   optimizer.step()\n",
        "\n",
        "   #empty our gradients\n",
        "   optimizer.zero_grad()\n",
        "\n",
        "   if (epoch+1) %10==0:\n",
        "     print(f'epoch: {epoch+1}, loss ={loss.item():.4f}')\n",
        "\n",
        "#plot\n",
        "predicted= model(X).detach().numpy()\n",
        "plt.plot(X_numpy, Y_numpy, 'ro')\n",
        "plt.plot(X_numpy, predicted, 'b')\n",
        "plt.show()\n",
        "\n",
        "\n",
        "\n"
      ],
      "metadata": {
        "id": "mFVTCYhGgxfI",
        "outputId": "1864a6e7-7650-4f14-c9fa-2af547ce398a",
        "colab": {
          "base_uri": "https://localhost:8080/",
          "height": 449
        }
      },
      "execution_count": null,
      "outputs": [
        {
          "output_type": "stream",
          "name": "stdout",
          "text": [
            "epoch: 10, loss =4287.8638\n",
            "epoch: 20, loss =3201.4875\n",
            "epoch: 30, loss =2415.3369\n",
            "epoch: 40, loss =1845.8413\n",
            "epoch: 50, loss =1432.8875\n",
            "epoch: 60, loss =1133.1753\n",
            "epoch: 70, loss =915.4694\n",
            "epoch: 80, loss =757.2095\n",
            "epoch: 90, loss =642.0818\n",
            "epoch: 100, loss =558.2772\n"
          ]
        },
        {
          "output_type": "display_data",
          "data": {
            "image/png": "[encoded data removed]",
            "text/plain": [
              "<Figure size 432x288 with 1 Axes>"
            ]
          },
          "metadata": {
            "needs_background": "light"
          }
        }
      ]
    },
    {
      "cell_type": "code",
      "source": [
        "#LOGISTIC REGESSION\n",
        "\n",
        "import torch\n",
        "import torch.nn as nn\n",
        "import numpy as np\n",
        "from sklearn import datasets\n",
        "from sklearn.preprocessing import StandardScaler\n",
        "from sklearn.model_selection import train_test_split\n",
        "\n",
        "#0) Prepare data\n",
        "\n",
        "bc=datasets.load_breast_cancer()\n",
        "# Binary classification problem where we can predict cancer based on the input features.\n",
        "X,y= bc.data, bc.target\n",
        "\n",
        "n_samples, n_features= X.shape\n",
        "print(n_samples, n_features)\n",
        "X_train, X_test, y_train, y_test= train_test_split(X,y, test_size=0.2, random_state=1234)\n",
        "\n",
        "#scale our features\n",
        "sc= StandardScaler()\n",
        "X_train=sc.fit_transform(X_train)\n",
        "X_test= sc.transform(X_test)\n",
        "\n",
        "X_train= torch.from_numpy(X_train.astype(np.float32))\n",
        "X_test= torch.from_numpy(X_test.astype(np.float32))\n",
        "y_train= torch.from_numpy(y_train.astype(np.float32))\n",
        "y_test= torch.from_numpy(y_test.astype(np.float32))\n",
        "\n",
        "y_train=y_train.view(y_train.shape[0],1)\n",
        "y_test= y_test.view(y_test.shape[0],1)\n",
        "\n",
        "#1) Model\n",
        "# f=wx+b, sigmoid at the end\n",
        "class LogisticRegression(nn.Module):\n",
        "\n",
        "  def __init__(self, n_input_features):\n",
        "    super(LogisticRegression, self).__init__()\n",
        "    self.linear= nn.Linear(n_input_features,1)\n",
        "\n",
        "  def forward(self, x):\n",
        "    y_predicted= torch.sigmoid(self.linear(x))\n",
        "    return y_predicted\n",
        "\n",
        "model=LogisticRegression(n_features)\n",
        "\n",
        "#2) loss and optimizer\n",
        "learning_rate=0.01\n",
        "criterion= nn.BCELoss()\n",
        "optimizer= torch.optim.SGD(model.parameters(),lr=learning_rate)\n",
        "\n",
        "#3) training loop\n",
        "num_epochs= 100\n",
        "for epoch in range(num_epochs):\n",
        "  #forward pass and loss\n",
        "  y_predicted= model(X_train)\n",
        "  loss=criterion(y_predicted, y_train)\n",
        "\n",
        "  #backward pass\n",
        "  loss.backward()\n",
        "\n",
        "  #updates\n",
        "  optimizer.step()\n",
        "\n",
        "  #zero gradients\n",
        "  optimizer.zero_grad()\n",
        "\n",
        "  if (epoch+1)%10==0:\n",
        "    print(f'epoch:{epoch+1},loss={loss.item():.4f}')\n",
        "\n",
        "with torch.no_grad():\n",
        "  y_predicted=model(X_test)\n",
        "  y_predicted_cls= y_predicted.round()\n",
        "  acc= y_predicted_cls.eq(y_test).sum()/float(y_test.shape[0])\n",
        "  print(f'accuracy: {acc:.4f}')\n",
        "\n",
        "  \n",
        "\n",
        "\n",
        "\n",
        "\n"
      ],
      "metadata": {
        "id": "s4na0p5UqfaT",
        "outputId": "3750577b-6b23-4fa2-98e8-4056e7aefd53",
        "colab": {
          "base_uri": "https://localhost:8080/"
        }
      },
      "execution_count": null,
      "outputs": [
        {
          "output_type": "stream",
          "name": "stdout",
          "text": [
            "569 30\n",
            "epoch:10,loss=0.6167\n",
            "epoch:20,loss=0.4969\n",
            "epoch:30,loss=0.4238\n",
            "epoch:40,loss=0.3746\n",
            "epoch:50,loss=0.3390\n",
            "epoch:60,loss=0.3118\n",
            "epoch:70,loss=0.2902\n",
            "epoch:80,loss=0.2726\n",
            "epoch:90,loss=0.2579\n",
            "epoch:100,loss=0.2454\n",
            "accuracy: 0.9035\n"
          ]
        }
      ]
    }
  ]
}