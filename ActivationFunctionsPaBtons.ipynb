{
  "nbformat": 4,
  "nbformat_minor": 0,
  "metadata": {
    "colab": {
      "name": "ActivationFunctionsPaBtons",
      "provenance": [],
      "authorship_tag": "ABX9TyMciXAxy7TmrgfWgX9GKbbO",
      "include_colab_link": true
    },
    "kernelspec": {
      "name": "python3",
      "display_name": "Python 3"
    },
    "language_info": {
      "name": "python"
    }
  },
  "cells": [
    {
      "cell_type": "markdown",
      "metadata": {
        "id": "view-in-github",
        "colab_type": "text"
      },
      "source": [
        "<a href=\"https://colab.research.google.com/github/yolitie/Deep-Learning/blob/main/ActivationFunctionsPaBtons.ipynb\" target=\"_parent\"><img src=\"https://colab.research.google.com/assets/colab-badge.svg\" alt=\"Open In Colab\"/></a>"
      ]
    },
    {
      "cell_type": "code",
      "execution_count": null,
      "metadata": {
        "id": "V2EVlRtZU5EP"
      },
      "outputs": [],
      "source": [
        "#ACTIVACTION FUNCTIONS\n",
        "\n",
        "#Activation functions apply a non-linear transformation and decide wether a neuron should be activated or not.\n",
        "#Typically we will have a linear layer in our network that applies a linear transformation.\n",
        "#Without activation functions our network is basically just a stacked linear regression model.\n",
        "#After each layer we tipically use an activation function.\n",
        "\n",
        "#Most popular activation fuctions:\n",
        "#1. Step function\n",
        "#2. Sigmoid\n",
        "#3. TanH (scaled sigmoid function)\n",
        "#4. ReLU (most popular choice in most of the nn)\n",
        "#5. Leaky ReLU (slightly improved version of the ReLU)\n",
        "#6. Softmax\n",
        "#(If you don´t know which function to use use the ReLU one)\n"
      ]
    }
  ]
}