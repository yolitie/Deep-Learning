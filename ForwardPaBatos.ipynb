{
  "nbformat": 4,
  "nbformat_minor": 0,
  "metadata": {
    "colab": {
      "name": "ForwardPaBatos",
      "provenance": [],
      "collapsed_sections": [],
      "authorship_tag": "ABX9TyMdOlCejAftHSOpZflTQkWg",
      "include_colab_link": true
    },
    "kernelspec": {
      "name": "python3",
      "display_name": "Python 3"
    },
    "language_info": {
      "name": "python"
    }
  },
  "cells": [
    {
      "cell_type": "markdown",
      "metadata": {
        "id": "view-in-github",
        "colab_type": "text"
      },
      "source": [
        "<a href=\"https://colab.research.google.com/github/yolitie/Deep-Learning/blob/main/ForwardPaBatos.ipynb\" target=\"_parent\"><img src=\"https://colab.research.google.com/assets/colab-badge.svg\" alt=\"Open In Colab\"/></a>"
      ]
    },
    {
      "cell_type": "code",
      "execution_count": 4,
      "metadata": {
        "colab": {
          "base_uri": "https://localhost:8080/",
          "height": 524
        },
        "id": "EoY_8SmwPQoR",
        "outputId": "0355bfef-0758-408e-d2f6-26fb15c5a817"
      },
      "outputs": [
        {
          "output_type": "stream",
          "name": "stdout",
          "text": [
            "torch.Size([100, 1, 28, 28]) torch.Size([100])\n",
            "epoch1/2,step 100/600, loss= 0.4103\n",
            "epoch1/2,step 200/600, loss= 0.3359\n",
            "epoch1/2,step 300/600, loss= 0.3053\n",
            "epoch1/2,step 400/600, loss= 0.3995\n",
            "epoch1/2,step 500/600, loss= 0.1343\n",
            "epoch1/2,step 600/600, loss= 0.1896\n",
            "epoch2/2,step 100/600, loss= 0.2327\n",
            "epoch2/2,step 200/600, loss= 0.3703\n",
            "epoch2/2,step 300/600, loss= 0.3861\n",
            "epoch2/2,step 400/600, loss= 0.2503\n",
            "epoch2/2,step 500/600, loss= 0.1058\n",
            "epoch2/2,step 600/600, loss= 0.1212\n",
            "accuracy = 9.69\n"
          ]
        },
        {
          "output_type": "display_data",
          "data": {
            "image/png": "[encoded data removed]",
            "text/plain": [
              "<Figure size 432x288 with 6 Axes>"
            ]
          },
          "metadata": {
            "needs_background": "light"
          }
        }
      ],
      "source": [
        "#FEEDFORWARD NN\n",
        "\n",
        "#MNIST\n",
        "#Dataloader, Transformation\n",
        "#Multilayer Neural Net, activation function\n",
        "#Loss and optimizer\n",
        "\n",
        "import torch\n",
        "import torch.nn as nn\n",
        "import torchvision\n",
        "import torchvision.transforms as transforms\n",
        "import matplotlib.pyplot as plt\n",
        "\n",
        "#device configuration\n",
        "device= torch.device('cuda' if torch.cuda.is_available() else 'cpu')\n",
        "\n",
        "#hyper parameters\n",
        "input_size= 784 #images have the size 28x28\n",
        "hidden_size= 100\n",
        "num_classes= 10\n",
        "num_epochs= 2\n",
        "batch_size= 100\n",
        "learning_rate=0.001\n",
        "\n",
        "#MNIST\n",
        "train_dataset=torchvision.datasets.MNIST(root='./data', train=True,transform=transforms.ToTensor(), download=True )\n",
        "test_dataset=torchvision.datasets.MNIST(root='./data', train=False, transform=transforms.ToTensor())\n",
        "\n",
        "train_loader=torch.utils.data.DataLoader(dataset=train_dataset,batch_size=batch_size,shuffle=True)\n",
        "\n",
        "test_loader=torch.utils.data.DataLoader(dataset=test_dataset, batch_size=batch_size,shuffle=False)\n",
        "\n",
        "examples= iter(train_loader)\n",
        "samples,labels=examples.next()\n",
        "print(samples.shape,labels.shape)\n",
        "\n",
        "for i in range(6):\n",
        "  plt.subplot(2,3,i+1)\n",
        "  plt.imshow(samples[i][0],cmap='gray')\n",
        "#plt.show()\n",
        "\n",
        "#we create a class NeuralNet that has to be derived from nn.Module and we have to define the init and forward method\n",
        "#init hS To have itself, the input hidden and output sizes, being the output size the number of classes \n",
        "class NeuralNet(nn.Module):\n",
        "  def __init__(self,input_size,hidden_size,num_classes):\n",
        "    super(NeuralNet,self).__init__()\n",
        "    self.l1= nn.Linear(input_size,hidden_size)\n",
        "    self.relu= nn.ReLU()\n",
        "    self.l2=nn.Linear(hidden_size, num_classes)\n",
        "  \n",
        "  def forward(self,x):\n",
        "    out=self.l1(x)\n",
        "    out= self.relu(out)\n",
        "    out= self.l2(out)\n",
        "    return out\n",
        "\n",
        "model=NeuralNet(input_size, hidden_size, num_classes)\n",
        "\n",
        "#loss and optimizer\n",
        "criterion= nn.CrossEntropyLoss()\n",
        "optimizer= torch.optim.Adam(model.parameters(), lr= learning_rate)\n",
        "\n",
        "#Training loop\n",
        "n_total_steps= len(train_loader)\n",
        "for epoch in range(num_epochs):\n",
        "  for i, (images,labels) in enumerate(train_loader):\n",
        "    #We have to reshape our images first, because if we have 100 1x28x28\n",
        "    #Our input size is 784\n",
        "    images=images.reshape(-1,28*28).to(device)\n",
        "    labels=labels.to(device)\n",
        "\n",
        "    #forward\n",
        "    outputs= model(images)\n",
        "    loss=criterion(outputs,labels)\n",
        "\n",
        "    #backwards\n",
        "    optimizer.zero_grad() #to empty the values in the gradient attribute\n",
        "    loss.backward()\n",
        "    optimizer.step()\n",
        "\n",
        "    if (i+1)%100==0:\n",
        "      print(f'epoch{epoch+1}/{num_epochs},step {i+1}/{n_total_steps}, loss= {loss.item():.4f}')\n",
        "\n",
        "#Test \n",
        "with torch.no_grad():\n",
        "  n_correct=0\n",
        "  n_samples=0\n",
        "  for images, labes in test_loader:\n",
        "    images=images.reshape(-1,28*28).to(device)\n",
        "    labels=labels.to(device)\n",
        "    outputs= model(images)\n",
        "\n",
        "    #value, index\n",
        "    _,predictions= torch.max(outputs,1)\n",
        "    n_samples += labels.shape[0]\n",
        "    n_correct += (predictions==labels).sum().item()\n",
        "\n",
        "  acc= 100.0*n_correct/n_samples\n",
        "  print(f'accuracy = {acc}')\n",
        "\n",
        " \n",
        "\n",
        "\n",
        "\n",
        "\n",
        "\n"
      ]
    }
  ]
}