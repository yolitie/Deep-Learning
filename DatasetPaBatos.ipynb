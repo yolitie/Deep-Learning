{
  "nbformat": 4,
  "nbformat_minor": 0,
  "metadata": {
    "colab": {
      "name": "DatasetPaBatos",
      "provenance": [],
      "authorship_tag": "ABX9TyNpyKtW/YgJQgWugvb9tM8W",
      "include_colab_link": true
    },
    "kernelspec": {
      "name": "python3",
      "display_name": "Python 3"
    },
    "language_info": {
      "name": "python"
    }
  },
  "cells": [
    {
      "cell_type": "markdown",
      "metadata": {
        "id": "view-in-github",
        "colab_type": "text"
      },
      "source": [
        "<a href=\"https://colab.research.google.com/github/yolitie/Deep-Learning/blob/main/DatasetPaBatos.ipynb\" target=\"_parent\"><img src=\"https://colab.research.google.com/assets/colab-badge.svg\" alt=\"Open In Colab\"/></a>"
      ]
    },
    {
      "cell_type": "code",
      "execution_count": 1,
      "metadata": {
        "colab": {
          "base_uri": "https://localhost:8080/",
          "height": 246
        },
        "id": "wUQb1btNySoI",
        "outputId": "853d8fd3-f490-4e31-fa2f-2a16e5b4bd6c"
      },
      "outputs": [
        {
          "output_type": "error",
          "ename": "NameError",
          "evalue": "ignored",
          "traceback": [
            "\u001b[0;31m---------------------------------------------------------------------------\u001b[0m",
            "\u001b[0;31mNameError\u001b[0m                                 Traceback (most recent call last)",
            "\u001b[0;32m<ipython-input-1-59e720062981>\u001b[0m in \u001b[0;36m<module>\u001b[0;34m()\u001b[0m\n\u001b[1;32m     30\u001b[0m \u001b[0;34m\u001b[0m\u001b[0m\n\u001b[1;32m     31\u001b[0m \u001b[0;34m\u001b[0m\u001b[0m\n\u001b[0;32m---> 32\u001b[0;31m \u001b[0mdataset\u001b[0m\u001b[0;34m=\u001b[0m\u001b[0mWineDataSet\u001b[0m\u001b[0;34m(\u001b[0m\u001b[0;34m)\u001b[0m\u001b[0;34m\u001b[0m\u001b[0;34m\u001b[0m\u001b[0m\n\u001b[0m\u001b[1;32m     33\u001b[0m \u001b[0mfirst_data\u001b[0m\u001b[0;34m=\u001b[0m\u001b[0mdataset\u001b[0m\u001b[0;34m[\u001b[0m\u001b[0;36m0\u001b[0m\u001b[0;34m]\u001b[0m\u001b[0;34m\u001b[0m\u001b[0;34m\u001b[0m\u001b[0m\n\u001b[1;32m     34\u001b[0m \u001b[0mfeatures\u001b[0m\u001b[0;34m,\u001b[0m \u001b[0mlabels\u001b[0m\u001b[0;34m=\u001b[0m \u001b[0mfirs_data\u001b[0m\u001b[0;34m\u001b[0m\u001b[0;34m\u001b[0m\u001b[0m\n",
            "\u001b[0;31mNameError\u001b[0m: name 'WineDataSet' is not defined"
          ]
        }
      ],
      "source": [
        "# epoch= 1 forward and backward pass of all training samples\n",
        "# batch_size= number of training samples in one forward & backward pass\n",
        "# number of iterations= number of passes each pass using [batch_size] number of samples\n",
        "\n",
        "#e.g 100 samples, batch_size= 20 --> 100/20= 5 iterations for 1 epoch\n",
        "\n",
        "import torch\n",
        "import torchvision\n",
        "from torch.utils.data import Dataset, DataLoader\n",
        "import numpy as np\n",
        "import math\n",
        "\n",
        "class WineDataset(Dataset):\n",
        "  def __init__(self):\n",
        "    #data loading\n",
        "    xy=np.loadtxt('./data/wine/wine.csv',delimiter=\",\", dtype=np.float32,skiprows=1)\n",
        "    #We want to skip row 1 because that is or header\n",
        "    self.x= torch.from_numpy(xy[:,1:])\n",
        "    self.y=torch.from_numpy(xy[:,[0]]) #n_samples, 1\n",
        "    self.n_samples= xy.shape[0]\n",
        "\n",
        "\n",
        "  def __getitem__(self, index):\n",
        "    #dataset[0]\n",
        "    return self.x[index], self.y[index]\n",
        "  \n",
        "  def __len__(self):\n",
        "    #length(dataset)\n",
        "    return self.n_samples\n",
        "\n",
        "  \n",
        "dataset=WineDataSet()\n",
        "first_data=dataset[0]\n",
        "features, labels= firs_data\n",
        "print(features, labels)\n",
        "dataloader= DataLoader(dataset=dataset, batch_size=4, shuffle=True, num_workers=2)\n",
        "\n",
        "dataiter= iter(dataloader)\n",
        "data= dataiter.next()\n",
        "features, labels= data\n",
        "print(features, labels)\n",
        "\n",
        "#training loop \n",
        "num_epochs=2\n",
        "total_samples=len(dataset)\n",
        "n_iterations=math.ceil(total_samples/4)\n",
        "print(total_samples, n_iterations)\n",
        "\n",
        "for epoch in range(num_epochs):\n",
        "  for i,( inputs, labels) in enumerate(dataloader):\n",
        "    #forward backward, update\n",
        "    if (i+1)%5==0:\n",
        "        print(f'epoch{epoch+1}/{num_epochs},step {i+1}/{n_iterations}, inputs{inputs.shape}')\n",
        "torchvision.datasets.MNIST() \n",
        "      \n"
      ]
    }
  ]
}